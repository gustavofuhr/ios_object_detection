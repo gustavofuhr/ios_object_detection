{
 "cells": [
  {
   "cell_type": "markdown",
   "metadata": {},
   "source": [
    "## Exporting yolo v8 models to CoreML\n",
    "\n",
    "It should use [Ultralytics](https://github.com/ultralytics/ultralytics) to convert a Pytorch model to CoreML and use it in an [iOS app demo](https://github.com/ultralytics/yolo-ios-app) made by them.\n"
   ]
  },
  {
   "cell_type": "markdown",
   "metadata": {},
   "source": [
    "### Download ultralytics\n",
    "\n",
    "if not present"
   ]
  },
  {
   "cell_type": "code",
   "execution_count": 1,
   "metadata": {},
   "outputs": [
    {
     "name": "stdout",
     "output_type": "stream",
     "text": [
      "Updating 19a2d0a4..997f2c92\n",
      "error: Your local changes to the following files would be overwritten by merge:\n",
      "\tultralytics/nn/tasks.py\n",
      "Please commit your changes or stash them before you merge.\n",
      "Aborting\n",
      "fatal: destination path 'third_party/ultralytics' already exists and is not an empty directory.\n"
     ]
    }
   ],
   "source": [
    "DETECTOR_DIR = \"third_party/ultralytics/\"\n",
    "!git -C {DETECTOR_DIR} pull || git clone https://github.com/ultralytics/ultralytics {DETECTOR_DIR}"
   ]
  },
  {
   "cell_type": "markdown",
   "metadata": {},
   "source": [
    "### Download ios-demo-app"
   ]
  },
  {
   "cell_type": "code",
   "execution_count": 2,
   "metadata": {},
   "outputs": [
    {
     "name": "stdout",
     "output_type": "stream",
     "text": [
      "fatal: cannot change to 'third_party/ultralytics-yolo-ios-app/': No such file or directory\n",
      "Cloning into 'third_party/ultralytics-yolo-ios-app'...\n",
      "remote: Enumerating objects: 119, done.\u001b[K\n",
      "remote: Counting objects: 100% (52/52), done.\u001b[K\n",
      "remote: Compressing objects: 100% (32/32), done.\u001b[K\n",
      "remote: Total 119 (delta 37), reused 20 (delta 20), pack-reused 67\u001b[K\n",
      "Receiving objects: 100% (119/119), 122.72 KiB | 294.00 KiB/s, done.\n",
      "Resolving deltas: 100% (42/42), done.\n"
     ]
    }
   ],
   "source": [
    "DEMO_APP_DIR = \"third_party/ultralytics-yolo-ios-app/\"\n",
    "!git -C {DEMO_APP_DIR} pull || git clone https://github.com/ultralytics/yolo-ios-app {DEMO_APP_DIR}"
   ]
  },
  {
   "cell_type": "markdown",
   "metadata": {},
   "source": [
    "### Export the model using ultralytics\n",
    "\n",
    "It will download the model if necessary."
   ]
  },
  {
   "cell_type": "markdown",
   "metadata": {},
   "source": [
    "It's a good idea to use the ultralytics pip package, because you need to set the correct version of numpy, pytorch etc. Also, I got erros using Python versions above 3.10, the following was tested with Python 3.10.14."
   ]
  },
  {
   "cell_type": "code",
   "execution_count": 7,
   "metadata": {},
   "outputs": [
    {
     "name": "stdout",
     "output_type": "stream",
     "text": [
      "Requirement already satisfied: coremltools in ./.venv/lib/python3.12/site-packages (7.2)\n",
      "Requirement already satisfied: numpy>=1.14.5 in ./.venv/lib/python3.12/site-packages (from coremltools) (1.26.4)\n",
      "Requirement already satisfied: protobuf<=4.0.0,>=3.1.0 in ./.venv/lib/python3.12/site-packages (from coremltools) (3.20.3)\n",
      "Requirement already satisfied: sympy in ./.venv/lib/python3.12/site-packages (from coremltools) (1.12.1)\n",
      "Requirement already satisfied: tqdm in ./.venv/lib/python3.12/site-packages (from coremltools) (4.66.4)\n",
      "Requirement already satisfied: packaging in ./.venv/lib/python3.12/site-packages (from coremltools) (24.1)\n",
      "Requirement already satisfied: attrs>=21.3.0 in ./.venv/lib/python3.12/site-packages (from coremltools) (23.2.0)\n",
      "Requirement already satisfied: cattrs in ./.venv/lib/python3.12/site-packages (from coremltools) (23.2.3)\n",
      "Requirement already satisfied: pyaml in ./.venv/lib/python3.12/site-packages (from coremltools) (24.4.0)\n",
      "Requirement already satisfied: PyYAML in ./.venv/lib/python3.12/site-packages (from pyaml->coremltools) (6.0.1)\n",
      "Requirement already satisfied: mpmath<1.4.0,>=1.1.0 in ./.venv/lib/python3.12/site-packages (from sympy->coremltools) (1.3.0)\n"
     ]
    }
   ],
   "source": [
    "!pip install ultralytics"
   ]
  },
  {
   "cell_type": "code",
   "execution_count": 1,
   "metadata": {},
   "outputs": [
    {
     "name": "stdout",
     "output_type": "stream",
     "text": [
      "Ultralytics YOLOv8.2.52 🚀 Python-3.10.14 torch-2.3.1 CPU (Apple M3)\n",
      "WARNING ⚠️ INT8 export requires a missing 'data' arg for calibration. Using default 'data=coco8.yaml'.\n",
      "YOLOv8n summary (fused): 168 layers, 3151904 parameters, 0 gradients, 8.7 GFLOPs\n",
      "\n",
      "\u001b[34m\u001b[1mPyTorch:\u001b[0m starting from 'yolov8n.pt' with input shape (1, 3, 640, 384) BCHW and output shape(s) (1, 84, 5040) (6.2 MB)\n"
     ]
    },
    {
     "name": "stderr",
     "output_type": "stream",
     "text": [
      "scikit-learn version 1.5.1 is not supported. Minimum required version: 0.17. Maximum required version: 1.1.2. Disabling scikit-learn conversion API.\n",
      "Torch version 2.3.1 has not been tested with coremltools. You may run into unexpected errors. Torch 2.2.0 is the most recent version that has been tested.\n"
     ]
    },
    {
     "name": "stdout",
     "output_type": "stream",
     "text": [
      "\n",
      "\u001b[34m\u001b[1mCoreML:\u001b[0m starting export with coremltools 7.2...\n"
     ]
    },
    {
     "name": "stderr",
     "output_type": "stream",
     "text": [
      "Tuple detected at graph output. This will be flattened in the converted model.\n",
      "Converting PyTorch Frontend ==> MIL Ops: 100%|█████████▉| 523/525 [00:00<00:00, 10314.77 ops/s]\n",
      "Running MIL frontend_pytorch pipeline: 100%|██████████| 5/5 [00:00<00:00, 247.71 passes/s]\n",
      "Running MIL default pipeline: 100%|██████████| 78/78 [00:00<00:00, 120.91 passes/s]\n",
      "Running MIL backend_mlprogram pipeline: 100%|██████████| 12/12 [00:00<00:00, 257.22 passes/s]\n",
      "Running compression pass palettize_weights: 100%|██████████| 129/129 [00:26<00:00,  4.79 ops/s]\n",
      "Running MIL frontend_milinternal pipeline: 0 passes [00:00, ? passes/s]\n",
      "Running MIL default pipeline: 100%|██████████| 76/76 [00:00<00:00, 163.75 passes/s]\n",
      "Running MIL backend_mlprogram pipeline: 100%|██████████| 12/12 [00:00<00:00, 198.93 passes/s]\n"
     ]
    },
    {
     "name": "stdout",
     "output_type": "stream",
     "text": [
      "\u001b[34m\u001b[1mCoreML Pipeline:\u001b[0m starting pipeline with coremltools 7.2...\n",
      "\u001b[34m\u001b[1mCoreML Pipeline:\u001b[0m pipeline success\n",
      "\u001b[34m\u001b[1mCoreML:\u001b[0m export success ✅ 42.4s, saved as 'yolov8n.mlpackage' (3.2 MB)\n",
      "\n",
      "Export complete (43.0s)\n",
      "Results saved to \u001b[1m/Users/gustavofuhr/projects/object_detection_ios_comprehensive\u001b[0m\n",
      "Predict:         yolo predict task=detect model=yolov8n.mlpackage imgsz=640,384 int8 \n",
      "Validate:        yolo val task=detect model=yolov8n.mlpackage imgsz=640,384 data=coco.yaml int8 WARNING ⚠️ non-PyTorch val requires square images, 'imgsz=[640, 384]' will not work. Use export 'imgsz=640' if val is required.\n",
      "Visualize:       https://netron.app\n"
     ]
    },
    {
     "data": {
      "text/plain": [
       "'yolov8n.mlpackage'"
      ]
     },
     "execution_count": 1,
     "metadata": {},
     "output_type": "execute_result"
    }
   ],
   "source": [
    "import sys, os\n",
    "sys.path.append(\"third_party/ultralytics\")\n",
    "from ultralytics import YOLO\n",
    "\n",
    "model_name = \"yolov8n\"\n",
    "\n",
    "# Load a model\n",
    "model = YOLO(\"yolov8n.pt\")  # load an official model\n",
    "\n",
    "# Export the model\n",
    "model.export(format=\"coreml\",  int8=True, nms=True, imgsz=[640, 384])\n",
    "\n",
    "# run using the ultralytics library\n",
    "# Load a model\n",
    "# model = YOLO(\"yolov8n.mlpackage\", task=\"detect\")  # pretrained YOLOv8n model\n",
    "\n",
    "# results = model([\"third_party/ultralytics/ultralytics/assets/zidane.jpg\"])\n"
   ]
  },
  {
   "cell_type": "code",
   "execution_count": 2,
   "metadata": {
    "vscode": {
     "languageId": "shellscript"
    }
   },
   "outputs": [
    {
     "name": "stdout",
     "output_type": "stream",
     "text": [
      "3.2M\tyolov8n.mlpackage\n"
     ]
    }
   ],
   "source": [
    "# check the size of the ml package\n",
    "!du -sh yolov8n.mlpackage"
   ]
  }
 ],
 "metadata": {
  "kernelspec": {
   "display_name": ".venv",
   "language": "python",
   "name": "python3"
  },
  "language_info": {
   "codemirror_mode": {
    "name": "ipython",
    "version": 3
   },
   "file_extension": ".py",
   "mimetype": "text/x-python",
   "name": "python",
   "nbconvert_exporter": "python",
   "pygments_lexer": "ipython3",
   "version": "3.10.14"
  }
 },
 "nbformat": 4,
 "nbformat_minor": 2
}
