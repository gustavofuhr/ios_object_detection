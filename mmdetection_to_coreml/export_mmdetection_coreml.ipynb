{
 "cells": [
  {
   "cell_type": "markdown",
   "metadata": {},
   "source": [
    "## Export mmdetection models to CoreML format\n",
    "\n",
    "This notebook will try to convert models from the [mmdetection](https://github.com/open-mmlab/mmdetection) library to CoreML format. This script tries to solve a bunch of dependencies problems that I founded when trying to convert these models.\n"
   ]
  },
  {
   "cell_type": "code",
   "execution_count": null,
   "metadata": {},
   "outputs": [],
   "source": [
    "# firsts thing first, install the requirements.\n",
    "!pip install -r requirements.txt"
   ]
  },
  {
   "cell_type": "code",
   "execution_count": null,
   "metadata": {},
   "outputs": [],
   "source": [
    "# import libraries\n",
    "import os\n",
    "import cv2\n",
    "import numpy as np"
   ]
  },
  {
   "cell_type": "markdown",
   "metadata": {},
   "source": [
    "We need to build libtorch, install mmdetection and mmdeploy according to the following docs:\n",
    "\n",
    "https://mmdeploy.readthedocs.io/en/latest/01-how-to-build/macos-arm64.html\n",
    "\n",
    "https://mmdeploy.readthedocs.io/en/latest/05-supported-backends/coreml.html"
   ]
  },
  {
   "cell_type": "markdown",
   "metadata": {},
   "source": [
    "### 1. Build libtorch, the slow part."
   ]
  },
  {
   "cell_type": "code",
   "execution_count": null,
   "metadata": {},
   "outputs": [],
   "source": [
    "PYTORCH_VERSION = \"2.0.0\"\n",
    "PYTORCH_DIR= \"third_party/pytorch\""
   ]
  },
  {
   "cell_type": "markdown",
   "metadata": {},
   "source": [
    "Clone PyTorch version (~8min)"
   ]
  },
  {
   "cell_type": "code",
   "execution_count": null,
   "metadata": {},
   "outputs": [],
   "source": [
    "if not os.path.exists(PYTORCH_DIR):\n",
    "    !git clone --recursive --depth 1 --branch v{PYTORCH_VERSION} https://github.com/pytorch/pytorch {PYTORCH_DIR}"
   ]
  },
  {
   "cell_type": "markdown",
   "metadata": {},
   "source": [
    "Build libtorch from source (~16min)"
   ]
  },
  {
   "cell_type": "code",
   "execution_count": null,
   "metadata": {},
   "outputs": [],
   "source": [
    "!cd {PYTORCH_DIR} && \\\n",
    "mkdir -p build && cd build && \\\n",
    "cmake .. \\\n",
    "    -DCMAKE_BUILD_TYPE=Release \\\n",
    "    -DPYTHON_EXECUTABLE=`which python` \\\n",
    "    -DCMAKE_INSTALL_PREFIX=install \\\n",
    "    -DDISABLE_SVE=ON\n",
    "\n",
    "!cd {PYTORCH_DIR}/build/ && make -j4 && make install"
   ]
  },
  {
   "cell_type": "markdown",
   "metadata": {},
   "source": [
    "### 2. Build mmdeploy\n",
    "\n",
    "We will need to build mmdeploy as well, more or less following what is described in the lib [docs](https://mmdeploy.readthedocs.io/en/latest/01-how-to-build/macos-arm64.html)."
   ]
  },
  {
   "cell_type": "code",
   "execution_count": null,
   "metadata": {},
   "outputs": [],
   "source": [
    "MMDEPLOY_DIR = \"third_party/mmdeploy/\"\n",
    "COMMIT_HASH = \"bc75c9d6c8940aa03d0e1e5b5962bd930478ba77\"\n",
    "!git -C {MMDEPLOY_DIR} pull || git clone --recursive https://github.com/open-mmlab/mmdeploy.git {MMDEPLOY_DIR}\n",
    "!cd {MMDEPLOY_DIR} && git reset --hard {COMMIT_HASH}"
   ]
  },
  {
   "cell_type": "markdown",
   "metadata": {},
   "source": [
    "First thing is that there is an error in the CMakeLists.txt that set the standard to C++14 instead of C++17. [See issue](https://github.com/open-mmlab/mmdeploy/issues/2638) for more details."
   ]
  },
  {
   "cell_type": "code",
   "execution_count": null,
   "metadata": {},
   "outputs": [],
   "source": [
    "with open(f\"{MMDEPLOY_DIR}/csrc/mmdeploy/backend_ops/CMakeLists.txt\", \"r\") as f, \\\n",
    "        open(f\"{MMDEPLOY_DIR}/csrc/mmdeploy/backend_ops/CMakeLists_fixed.txt\", \"w\") as f_out:\n",
    "    content = f.readlines()\n",
    "    for ln in content:\n",
    "        if \"set(CMAKE_CXX_STANDARD 14)\" in ln:\n",
    "            ln = \"    set(CMAKE_CXX_STANDARD 17)\\n\"\n",
    "        f_out.write(ln)\n",
    "\n",
    "os.rename(f'{MMDEPLOY_DIR}/csrc/mmdeploy/backend_ops/CMakeLists_fixed.txt', f'{MMDEPLOY_DIR}/csrc/mmdeploy/backend_ops/CMakeLists.txt')\n",
    "print(\"CMakeLists.txt updated\")"
   ]
  },
  {
   "cell_type": "code",
   "execution_count": null,
   "metadata": {},
   "outputs": [],
   "source": [
    "Torch_DIR=os.getcwd()+\"/third_party/pytorch/build/install/share/cmake/Torch\"\n",
    "\n",
    "print(\"will compile mmdeploy using torch from \", Torch_DIR)\n",
    "!cd {MMDEPLOY_DIR} && \\\n",
    "    mkdir -p build && cd build && \\\n",
    "    cmake -DMMDEPLOY_TARGET_BACKENDS=coreml -DTorch_DIR={Torch_DIR} .. && \\\n",
    "    make -j4 && make install"
   ]
  },
  {
   "cell_type": "code",
   "execution_count": null,
   "metadata": {},
   "outputs": [],
   "source": [
    "!cd {MMDEPLOY_DIR} && pip install -v -e ."
   ]
  },
  {
   "cell_type": "markdown",
   "metadata": {},
   "source": [
    "### 3. Install mmdetection from source"
   ]
  },
  {
   "cell_type": "code",
   "execution_count": null,
   "metadata": {},
   "outputs": [],
   "source": [
    "MMDETECTION_DIR = \"third_party/mmdetection/\"\n",
    "COMMIT_HASH = \"cfd5d3a985b0249de009b67d04f37263e11cdf3\"\n",
    "!git -C {MMDETECTION_DIR} pull || git clone --recursive https://github.com/open-mmlab/mmdetection.git {MMDETECTION_DIR}\n",
    "!cd {MMDETECTION_DIR} && git reset --hard {COMMIT_HASH}"
   ]
  },
  {
   "cell_type": "code",
   "execution_count": null,
   "metadata": {},
   "outputs": [],
   "source": [
    "!mim install mmengine\n",
    "!mim install \"mmcv >=2.0.0rc4, < 2.1.0\""
   ]
  },
  {
   "cell_type": "code",
   "execution_count": null,
   "metadata": {},
   "outputs": [],
   "source": [
    "!cd {MMDETECTION_DIR}; pip install -v -e ."
   ]
  },
  {
   "cell_type": "markdown",
   "metadata": {},
   "source": [
    "#### 4. Finally, convert the detector model!"
   ]
  },
  {
   "cell_type": "markdown",
   "metadata": {},
   "source": [
    "Download the models"
   ]
  },
  {
   "cell_type": "code",
   "execution_count": null,
   "metadata": {},
   "outputs": [],
   "source": [
    "#if not os.path.exists(\"retinanet_r18_fpn_1x_coco_20220407_171055-614fd399.pth\"):\n",
    "#    !wget https://download.openmmlab.com/mmdetection/v2.0/retinanet/retinanet_r18_fpn_1x_coco/retinanet_r18_fpn_1x_coco_20220407_171055-614fd399.pth .\n",
    "if not os.path.exists(\"rtmdet_tiny_8xb32-300e_coco_20220902_112414-78e30dcc.pth\"):\n",
    "    !wget https://download.openmmlab.com/mmdetection/v3.0/rtmdet/rtmdet_tiny_8xb32-300e_coco/rtmdet_tiny_8xb32-300e_coco_20220902_112414-78e30dcc.pth ."
   ]
  },
  {
   "cell_type": "markdown",
   "metadata": {},
   "source": [
    "Now will conver the model do CoreML, hopefully. I got an error when running the conversion script in a notebook, because it tried to open matplotlib to show some errors. That's why there is `MPLBACKEND=\"template\"` there."
   ]
  },
  {
   "cell_type": "code",
   "execution_count": null,
   "metadata": {},
   "outputs": [],
   "source": [
    "# !cd third_party/ && MPLBACKEND=\"template\" && python mmdeploy/tools/deploy.py \\\n",
    "#     mmdeploy/configs/mmdet/detection/detection_coreml_static-800x1344.py \\\n",
    "#     mmdetection/configs/retinanet/retinanet_r18_fpn_1x_coco.py \\\n",
    "#     ../retinanet_r18_fpn_1x_coco_20220407_171055-614fd399.pth \\\n",
    "#     mmdetection/demo/demo.jpg \\\n",
    "#     --work-dir ../work_dir/retinanet \\\n",
    "#     --device cpu \\\n",
    "#     --dump-info\n",
    "\n",
    "\n",
    "!cd third_party/ && MPLBACKEND=\"template\" && python mmdeploy/tools/deploy.py \\\n",
    "    mmdeploy/configs/mmdet/detection/detection_coreml_static-800x1344.py \\\n",
    "    mmdetection/configs/rtmdet/rtmdet_tiny_8xb32-300e_coco.py \\\n",
    "    ../rtmdet_tiny_8xb32-300e_coco_20220902_112414-78e30dcc.pth \\\n",
    "    mmdetection/demo/demo.jpg \\\n",
    "    --work-dir ../work_dir/rtmdet \\\n",
    "    --device cpu \\\n",
    "    --dump-info"
   ]
  },
  {
   "cell_type": "markdown",
   "metadata": {},
   "source": [
    "If everything worked out, you should have a .mlpackage with the CoreML converted model (including NMS). It's a good idea to open it in Xcode to check some metadata."
   ]
  },
  {
   "cell_type": "code",
   "execution_count": null,
   "metadata": {},
   "outputs": [],
   "source": [
    "#!du -sh retinanet_r18_fpn_1x_coco_20220407_171055-614fd399.pth\n",
    "#!du -sh work_dir/retinanet/end2end.mlpackage/\n",
    "\n",
    "!du -sh rtmdet_tiny_8xb32-300e_coco_20220902_112414-78e30dcc.pth\n",
    "!du -sh work_dir/rtmdet/end2end.mlpackage/"
   ]
  },
  {
   "cell_type": "markdown",
   "metadata": {},
   "source": [
    "The conversion script creates a lot of files in the `work_dir` directory. MMdeploy make inferences in both models so that we can check if that worked:"
   ]
  },
  {
   "cell_type": "code",
   "execution_count": null,
   "metadata": {},
   "outputs": [],
   "source": [
    "import ipyplot\n",
    "\n",
    "images = [\"work_dir/retinanet/output_pytorch.jpg\", \"work_dir/retinanet/output_coreml.jpg\"]\n",
    "labels = [\"PyTorch\", \"CoreML\"]\n",
    "ipyplot.plot_images(images, labels, img_width=400)"
   ]
  },
  {
   "cell_type": "markdown",
   "metadata": {},
   "source": [
    "### 5. CoreML inference"
   ]
  },
  {
   "cell_type": "markdown",
   "metadata": {},
   "source": [
    "Now let's run inference using the coremltools backend. This basically means that we will not use mmdetection to pre-process the images and we'll need to figure out what is the output."
   ]
  },
  {
   "cell_type": "markdown",
   "metadata": {},
   "source": [
    "Pre-processing images comes from these files:\n",
    "- `mmdetection/configs/_base_/datasets/coco_detection.py`\n",
    "- `mmdetection/configs/rtmdet/rtmdet_l_8xb32-300e_coco.py`\n",
    "\n",
    "For some strange reason, mean/std values can be different for different detectors."
   ]
  },
  {
   "cell_type": "code",
   "execution_count": null,
   "metadata": {},
   "outputs": [],
   "source": [
    "def preprocess_image(image_path):\n",
    "    im = cv2.imread(image_path)\n",
    "    im = cv2.resize(im, (1344, 800))\n",
    "    im = cv2.cvtColor(im, cv2.COLOR_BGR2RGB)\n",
    "    im = im.astype(np.float32)\n",
    "    # im /= 255 no need, since mean and std are with respect to 255\n",
    "\n",
    "    # mean and std values taken from rtmdet_l_8xb32-300e_coco.py file\n",
    "    mean=[103.53, 116.28, 123.675],\n",
    "    std=[57.375, 57.12, 58.395],\n",
    "\n",
    "    im -= mean\n",
    "    im /= std\n",
    "\n",
    "    im = im.transpose(2, 0, 1) # HWC -> CHW\n",
    "    im = np.expand_dims(im, 0)  # Add batch dimension.\n",
    "\n",
    "    return im"
   ]
  },
  {
   "cell_type": "markdown",
   "metadata": {},
   "source": [
    "The output of the CoreML model (for RTMDet) will be a dictionary with two items:\n",
    "- dets: this is a tensor of size 1x200x5 that represent 200 boxes that would be predicted by the model. Each box comes with four coordinates and a score (which we should apply a threshold); the boxes are returned in decreasing order of score, which is cool!\n",
    "- labels: this is a an array of 200 integers given class numbers (coco) for each box"
   ]
  },
  {
   "cell_type": "code",
   "execution_count": null,
   "metadata": {},
   "outputs": [],
   "source": [
    "\n",
    "from mmdet.datasets.coco import CocoDataset\n",
    "coco_classes = CocoDataset.METAINFO[\"classes\"]\n",
    "\n",
    "def postprocess_output(output, threshold = 0.5):\n",
    "    boxes = output[\"dets\"][0,:,:]\n",
    "    id_good_boxes = np.where(boxes[:,4] > threshold)  # boxes above threshold\n",
    "    \n",
    "    good_boxes = boxes[id_good_boxes, :][0]\n",
    "    good_labels = output[\"labels\"][0, id_good_boxes][0]\n",
    "\n",
    "    detections = []\n",
    "    for box, label in zip(good_boxes, good_labels):\n",
    "        detections.append({\"label\": coco_classes[label], \"box\": box[:4].tolist(), \"score\": box[4]})\n",
    "\n",
    "    return detections"
   ]
  },
  {
   "cell_type": "markdown",
   "metadata": {},
   "source": [
    "Quick function to plot object detection"
   ]
  },
  {
   "cell_type": "code",
   "execution_count": null,
   "metadata": {},
   "outputs": [],
   "source": [
    "import matplotlib.pyplot as plt\n",
    "import matplotlib.patches as patches\n",
    "\n",
    "def plot_detections(image_path, detections, detector_size):\n",
    "    im = cv2.imread(image_path)\n",
    "    fig, ax = plt.subplots(1, figsize=(10, 10))\n",
    "    \n",
    "    ax.imshow(cv2.cvtColor(im, cv2.COLOR_BGR2RGB))\n",
    "\n",
    "    for detection in detections:\n",
    "        box = detection[\"box\"]\n",
    "        # scale box according to detector_size\n",
    "        scale_x = im.shape[1] / detector_size[0]\n",
    "        scale_y = im.shape[0] / detector_size[1]\n",
    "        box = [box[0] * scale_x, box[1] * scale_y, box[2] * scale_x, box[3] * scale_y]\n",
    "        \n",
    "        label = detection[\"label\"]\n",
    "        score = detection[\"score\"]\n",
    "        rect = patches.Rectangle((box[0], box[1]), box[2] - box[0], box[3] - box[1], \n",
    "                                 linewidth=2, edgecolor='r', facecolor='none')\n",
    "        ax.add_patch(rect)\n",
    "        ax.text(box[0], box[1], f\"{label} {score:.2f}\", backgroundcolor=\"white\", color=\"red\")\n",
    "\n",
    "    plt.axis('off')\n",
    "    plt.show()\n",
    "\n"
   ]
  },
  {
   "cell_type": "code",
   "execution_count": null,
   "metadata": {},
   "outputs": [],
   "source": [
    "import coremltools as ct\n",
    "\n",
    "model = ct.models.MLModel(\"work_dir/rtmdet/end2end.mlpackage\", compute_units=ct.ComputeUnit.ALL)\n",
    "pred = model.predict({\"input\": preprocess_image(\"third_party/mmdetection/demo/demo.jpg\")})\n",
    "\n",
    "plot_detections(\"third_party/mmdetection/demo/demo.jpg\", postprocess_output(pred), detector_size=(1344, 800))\n",
    "\n"
   ]
  }
 ],
 "metadata": {
  "kernelspec": {
   "display_name": ".mmdetection_agoravai2",
   "language": "python",
   "name": "python3"
  },
  "language_info": {
   "codemirror_mode": {
    "name": "ipython",
    "version": 3
   },
   "file_extension": ".py",
   "mimetype": "text/x-python",
   "name": "python",
   "nbconvert_exporter": "python",
   "pygments_lexer": "ipython3",
   "version": "3.10.14"
  }
 },
 "nbformat": 4,
 "nbformat_minor": 2
}
