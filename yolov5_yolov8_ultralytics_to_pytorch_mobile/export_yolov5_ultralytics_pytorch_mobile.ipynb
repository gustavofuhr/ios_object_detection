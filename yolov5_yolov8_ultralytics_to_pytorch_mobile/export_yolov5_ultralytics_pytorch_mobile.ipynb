{
 "cells": [
  {
   "cell_type": "markdown",
   "metadata": {},
   "source": [
    "## Exporting yolov5 model to Pytorch Mobile\n",
    "\n",
    "WARNING: the following export was done using the [ultralytics yolov5 code](https://github.com/ultralytics/yolov5/blob/master/export.py), and the necessary adaptations were made so it would work in the Pytorch official [iOS demo app](https://github.com/pytorch/ios-demo-app/tree/master/ObjectDetection).\n",
    "\n",
    "In this script we're more interested in the smallest model, the yolov5n, but it should work fine for larger ones.\n"
   ]
  },
  {
   "cell_type": "markdown",
   "metadata": {},
   "source": [
    "### 0.5 Install requirements"
   ]
  },
  {
   "cell_type": "code",
   "execution_count": 7,
   "metadata": {},
   "outputs": [
    {
     "name": "stdout",
     "output_type": "stream",
     "text": [
      "Requirement already satisfied: numpy==1.26.4 in ./.ultralytics_pytorchmobile/lib/python3.10/site-packages (from -r requirements.txt (line 1)) (1.26.4)\n",
      "Requirement already satisfied: pandas==2.2.2 in ./.ultralytics_pytorchmobile/lib/python3.10/site-packages (from -r requirements.txt (line 2)) (2.2.2)\n",
      "Requirement already satisfied: torch==2.3.1 in ./.ultralytics_pytorchmobile/lib/python3.10/site-packages (from -r requirements.txt (line 3)) (2.3.1)\n",
      "Collecting requests (from -r requirements.txt (line 4))\n",
      "  Using cached requests-2.32.3-py3-none-any.whl.metadata (4.6 kB)\n",
      "Requirement already satisfied: python-dateutil>=2.8.2 in ./.ultralytics_pytorchmobile/lib/python3.10/site-packages (from pandas==2.2.2->-r requirements.txt (line 2)) (2.9.0.post0)\n",
      "Requirement already satisfied: pytz>=2020.1 in ./.ultralytics_pytorchmobile/lib/python3.10/site-packages (from pandas==2.2.2->-r requirements.txt (line 2)) (2024.1)\n",
      "Requirement already satisfied: tzdata>=2022.7 in ./.ultralytics_pytorchmobile/lib/python3.10/site-packages (from pandas==2.2.2->-r requirements.txt (line 2)) (2024.1)\n",
      "Requirement already satisfied: filelock in ./.ultralytics_pytorchmobile/lib/python3.10/site-packages (from torch==2.3.1->-r requirements.txt (line 3)) (3.15.4)\n",
      "Requirement already satisfied: typing-extensions>=4.8.0 in ./.ultralytics_pytorchmobile/lib/python3.10/site-packages (from torch==2.3.1->-r requirements.txt (line 3)) (4.12.2)\n",
      "Requirement already satisfied: sympy in ./.ultralytics_pytorchmobile/lib/python3.10/site-packages (from torch==2.3.1->-r requirements.txt (line 3)) (1.13.1)\n",
      "Requirement already satisfied: networkx in ./.ultralytics_pytorchmobile/lib/python3.10/site-packages (from torch==2.3.1->-r requirements.txt (line 3)) (3.3)\n",
      "Requirement already satisfied: jinja2 in ./.ultralytics_pytorchmobile/lib/python3.10/site-packages (from torch==2.3.1->-r requirements.txt (line 3)) (3.1.4)\n",
      "Requirement already satisfied: fsspec in ./.ultralytics_pytorchmobile/lib/python3.10/site-packages (from torch==2.3.1->-r requirements.txt (line 3)) (2024.6.1)\n",
      "Collecting charset-normalizer<4,>=2 (from requests->-r requirements.txt (line 4))\n",
      "  Using cached charset_normalizer-3.3.2-cp310-cp310-macosx_11_0_arm64.whl.metadata (33 kB)\n",
      "Collecting idna<4,>=2.5 (from requests->-r requirements.txt (line 4))\n",
      "  Using cached idna-3.7-py3-none-any.whl.metadata (9.9 kB)\n",
      "Collecting urllib3<3,>=1.21.1 (from requests->-r requirements.txt (line 4))\n",
      "  Using cached urllib3-2.2.2-py3-none-any.whl.metadata (6.4 kB)\n",
      "Collecting certifi>=2017.4.17 (from requests->-r requirements.txt (line 4))\n",
      "  Using cached certifi-2024.7.4-py3-none-any.whl.metadata (2.2 kB)\n",
      "Requirement already satisfied: six>=1.5 in ./.ultralytics_pytorchmobile/lib/python3.10/site-packages (from python-dateutil>=2.8.2->pandas==2.2.2->-r requirements.txt (line 2)) (1.16.0)\n",
      "Requirement already satisfied: MarkupSafe>=2.0 in ./.ultralytics_pytorchmobile/lib/python3.10/site-packages (from jinja2->torch==2.3.1->-r requirements.txt (line 3)) (2.1.5)\n",
      "Requirement already satisfied: mpmath<1.4,>=1.1.0 in ./.ultralytics_pytorchmobile/lib/python3.10/site-packages (from sympy->torch==2.3.1->-r requirements.txt (line 3)) (1.3.0)\n",
      "Using cached requests-2.32.3-py3-none-any.whl (64 kB)\n",
      "Using cached certifi-2024.7.4-py3-none-any.whl (162 kB)\n",
      "Using cached charset_normalizer-3.3.2-cp310-cp310-macosx_11_0_arm64.whl (120 kB)\n",
      "Using cached idna-3.7-py3-none-any.whl (66 kB)\n",
      "Using cached urllib3-2.2.2-py3-none-any.whl (121 kB)\n",
      "Installing collected packages: urllib3, idna, charset-normalizer, certifi, requests\n",
      "Successfully installed certifi-2024.7.4 charset-normalizer-3.3.2 idna-3.7 requests-2.32.3 urllib3-2.2.2\n",
      "\n",
      "\u001b[1m[\u001b[0m\u001b[34;49mnotice\u001b[0m\u001b[1;39;49m]\u001b[0m\u001b[39;49m A new release of pip is available: \u001b[0m\u001b[31;49m24.0\u001b[0m\u001b[39;49m -> \u001b[0m\u001b[32;49m24.1.2\u001b[0m\n",
      "\u001b[1m[\u001b[0m\u001b[34;49mnotice\u001b[0m\u001b[1;39;49m]\u001b[0m\u001b[39;49m To update, run: \u001b[0m\u001b[32;49mpip install --upgrade pip\u001b[0m\n",
      "Note: you may need to restart the kernel to use updated packages.\n"
     ]
    }
   ],
   "source": [
    "%pip install -r requirements.txt"
   ]
  },
  {
   "cell_type": "markdown",
   "metadata": {},
   "source": [
    "### 1. Clone the yolov5 repo to export models\n",
    "I'm cloning from the main, but for future reproduction you can reset to the commit that I used:\n",
    "```\n",
    "git reset --hard 100a423b66fee81e0a2915d5da934d7872f12c8c\n",
    "```"
   ]
  },
  {
   "cell_type": "code",
   "execution_count": 1,
   "metadata": {},
   "outputs": [
    {
     "name": "stdout",
     "output_type": "stream",
     "text": [
      "fatal: cannot change to 'third_party/yolov5': No such file or directory\n",
      "Cloning into 'third_party/yolov5'...\n",
      "remote: Enumerating objects: 16807, done.\u001b[K\n",
      "remote: Counting objects: 100% (348/348), done.\u001b[K\n",
      "remote: Compressing objects: 100% (254/254), done.\u001b[K\n",
      "remote: Total 16807 (delta 187), reused 179 (delta 94), pack-reused 16459\u001b[K\n",
      "Receiving objects: 100% (16807/16807), 15.56 MiB | 12.30 MiB/s, done.\n",
      "Resolving deltas: 100% (11486/11486), done.\n"
     ]
    }
   ],
   "source": [
    "YOLOV5_DIR = \"third_party/yolov5\"\n",
    "!git -C {YOLOV5_DIR} pull || git clone https://github.com/ultralytics/yolov5.git {YOLOV5_DIR}"
   ]
  },
  {
   "cell_type": "markdown",
   "metadata": {},
   "source": [
    "### 2. Export the yolov5n model to torchscript mobile compatible\n",
    "\n",
    "Do not forget to include `--optimize` in the options, otherwise it would not convert for a mobile compatible model (torch-lite)."
   ]
  },
  {
   "cell_type": "code",
   "execution_count": 12,
   "metadata": {},
   "outputs": [
    {
     "name": "stdout",
     "output_type": "stream",
     "text": [
      "\u001b[34m\u001b[1mexport: \u001b[0mdata=third_party/yolov5/data/coco128.yaml, weights=['yolov5n.pt'], imgsz=[640, 640], batch_size=1, device=cpu, half=False, inplace=False, keras=False, optimize=True, int8=False, per_tensor=False, dynamic=False, simplify=False, opset=17, verbose=False, workspace=4, nms=False, agnostic_nms=False, topk_per_class=100, topk_all=100, iou_thres=0.45, conf_thres=0.25, include=['torchscript']\n",
      "YOLOv5 🚀 v7.0-345-g8003649c Python-3.10.14 torch-2.3.1 CPU\n",
      "\n",
      "Fusing layers... \n",
      "YOLOv5n summary: 213 layers, 1867405 parameters, 0 gradients, 4.5 GFLOPs\n",
      "\n",
      "\u001b[34m\u001b[1mPyTorch:\u001b[0m starting from yolov5n.pt with output shape (1, 25200, 85) (3.9 MB)\n",
      "\n",
      "\u001b[34m\u001b[1mTorchScript:\u001b[0m starting export with torch 2.3.1...\n",
      "\u001b[34m\u001b[1mTorchScript:\u001b[0m export success ✅ 0.9s, saved as yolov5n.torchscript (7.4 MB)\n",
      "\n",
      "Export complete (1.2s)\n",
      "Results saved to \u001b[1m/Users/gustavofuhr/projects/object_detection_ios_comprehensive/yolov5_yolov8_ultralytics_to_pytorch_mobile\u001b[0m\n",
      "Detect:          python detect.py --weights yolov5n.torchscript \n",
      "Validate:        python val.py --weights yolov5n.torchscript \n",
      "PyTorch Hub:     model = torch.hub.load('ultralytics/yolov5', 'custom', 'yolov5n.torchscript')  \n",
      "Visualize:       https://netron.app\n"
     ]
    }
   ],
   "source": [
    "import os\n",
    "\n",
    "MODEL_NAME = \"yolov5n.pt\"\n",
    "if not os.path.exists(MODEL_NAME):\n",
    "    !wget https://github.com/ultralytics/yolov5/releases/download/v7.0/{MODEL_NAME} -P .\n",
    "!python3 third_party/yolov5/export.py --weights {MODEL_NAME} --include torchscript --optimize"
   ]
  },
  {
   "cell_type": "markdown",
   "metadata": {},
   "source": [
    "If the above worked as expected, you should have in the current dir the original Pytorch yolov5 model `yolov5n.pt` and the converted one `yolov5n.torchscript`. In the next step you will need to put the model in the sample xcode project."
   ]
  },
  {
   "cell_type": "markdown",
   "metadata": {},
   "source": [
    "### 3. Setup the iOS demo app for yolov5"
   ]
  },
  {
   "cell_type": "markdown",
   "metadata": {},
   "source": [
    "Clone if doesn't exists"
   ]
  },
  {
   "cell_type": "code",
   "execution_count": 3,
   "metadata": {},
   "outputs": [
    {
     "name": "stdout",
     "output_type": "stream",
     "text": [
      "Already up to date.\n"
     ]
    }
   ],
   "source": [
    "DEMO_DIR = \"third_party/pytorch-ios-demo-app\"\n",
    "!git -C {DEMO_DIR} pull || git clone https://github.com/pytorch/ios-demo-app {TARGET_DIR}"
   ]
  },
  {
   "cell_type": "markdown",
   "metadata": {},
   "source": [
    "#### Install pods \n",
    "(IMPORTANT!) The version of the Lib-Torch specified in the Podfile will not work in the current version of the model/exporter. So we need to patch it."
   ]
  },
  {
   "cell_type": "code",
   "execution_count": 4,
   "metadata": {},
   "outputs": [
    {
     "name": "stdout",
     "output_type": "stream",
     "text": [
      "Podfile updated\n"
     ]
    }
   ],
   "source": [
    "import os\n",
    "\n",
    "with open(f\"{DEMO_DIR}/ObjectDetection/Podfile\", \"r\") as f, \\\n",
    "        open(f\"{DEMO_DIR}/ObjectDetection/Podfile_fixed_for_yolov5\", \"w\") as f_out:\n",
    "    content = f.readlines()\n",
    "    for ln in content:\n",
    "        if \"LibTorch-Lite\" in ln:\n",
    "            ln = \"  pod 'LibTorch-Lite', '~>1.12'\\n\"\n",
    "        f_out.write(ln)\n",
    "\n",
    "os.rename(f'{DEMO_DIR}/ObjectDetection/Podfile_fixed_for_yolov5', f'{DEMO_DIR}/ObjectDetection/Podfile')\n",
    "print(\"Podfile updated\")"
   ]
  },
  {
   "cell_type": "code",
   "execution_count": 40,
   "metadata": {},
   "outputs": [
    {
     "name": "stdout",
     "output_type": "stream",
     "text": [
      "Analyzing dependencies\n",
      "Downloading dependencies\n",
      "Generating Pods project\n",
      "Integrating client project\n",
      "\u001b[32mPod installation complete! There is 1 dependency from the Podfile and 1 total pod installed.\u001b[0m\n",
      "\u001b[33m\n",
      "[!] Automatically assigning platform `iOS` with version `14.0` on target `ObjectDetection` because no platform was specified. Please specify a platform for this target in your Podfile. See `https://guides.cocoapods.org/syntax/podfile.html#platform`.\u001b[0m\n"
     ]
    }
   ],
   "source": [
    "!cd {TARGET_DIR}/ObjectDetection && pod install"
   ]
  },
  {
   "cell_type": "markdown",
   "metadata": {},
   "source": [
    "🚨 Copy the `yolo5n.torchscript` to the xcode project, modify the `Inference/ObjectDetector.swift` to reference this new file by changing the `let filePath` line to `if let filePath = Bundle.main.path(forResource: \"yolov5n\", ofType: \"torchscript\"),`. It should work 🤞\n"
   ]
  }
 ],
 "metadata": {
  "kernelspec": {
   "display_name": "Python 3 (ipykernel)",
   "language": "python",
   "name": "python3"
  },
  "language_info": {
   "codemirror_mode": {
    "name": "ipython",
    "version": 3
   },
   "file_extension": ".py",
   "mimetype": "text/x-python",
   "name": "python",
   "nbconvert_exporter": "python",
   "pygments_lexer": "ipython3",
   "version": "3.10.14"
  }
 },
 "nbformat": 4,
 "nbformat_minor": 4
}
